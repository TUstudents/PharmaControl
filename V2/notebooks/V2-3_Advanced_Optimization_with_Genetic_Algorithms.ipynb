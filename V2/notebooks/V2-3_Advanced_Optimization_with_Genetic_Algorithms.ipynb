{
 "cells": [
  {
   "cell_type": "markdown",
   "metadata": {},
   "source": [
    "# V2 Notebook 3: Advanced Optimization with Genetic Algorithms\n",
    "\n",
    "**Project:** `RobustMPC-Pharma` (V2)\n",
    "**Goal:** Replace the V1 controller's inefficient exhaustive search with a scalable, intelligent optimization engine. We will use a **Genetic Algorithm (GA)** to efficiently search a massive space of potential control plans, enabling more sophisticated and effective control strategies.\n",
    "\n",
    "### Table of Contents\n",
    "1. [Theory: The Limits of Brute Force and the Power of Evolution](#1.-Theory:-The-Limits-of-Brute-Force-and-the-Power-of-Evolution)\n",
    "2. [Introduction to Genetic Algorithms for Control Problems](#2.-Introduction-to-Genetic-Algorithms-for-Control-Problems)\n",
    "3. [Building the `GeneticOptimizer` Class with DEAP](#3.-Building-the-GeneticOptimizer-Class-with-DEAP)\n",
    "4. [Defining a Richer Action Space](#4.-Defining-a-Richer-Action-Space)\n",
    "5. [Standalone Test of the Genetic Optimizer](#5.-Standalone-Test-of-the-Genetic-Optimizer)"
   ]
  },
  {
   "cell_type": "markdown",
   "metadata": {},
   "source": [
    "--- \n",
    "## 1. Theory: The Limits of Brute Force and the Power of Evolution\n",
    "\n",
    "Our V1 MPC controller used an **exhaustive search** over a discretized lattice. This approach has two critical flaws:\n",
    "\n",
    "1.  **It is not scalable.** The number of possible plans grows exponentially with the number of control variables and discretization steps. For 3 CPPs with 3 discretization steps each, we had `3^3 = 27` candidates. For 5 CPPs with 5 steps, we would have `5^5 = 3,125` candidates. This quickly becomes computationally impossible to evaluate in real-time.\n",
    "2.  **It is not expressive.** To keep the search space small, we had to assume a very simple control plan: 'make one change and hold it constant'. This prevents the controller from finding better, more dynamic solutions like gradually ramping a parameter.\n",
    "\n",
    "We need a smarter way to search. Instead of checking every single possibility, we can use an **evolutionary algorithm** that intelligently explores the search space to find near-optimal solutions quickly."
   ]
  },
  {
   "cell_type": "markdown",
   "metadata": {},
   "source": [
    "--- \n",
    "## 2. Introduction to Genetic Algorithms for Control Problems\n",
    "\n",
    "A Genetic Algorithm (GA) is a search heuristic inspired by Charles Darwin's theory of natural selection. It 'evolves' a population of candidate solutions towards a better outcome over several generations.\n",
    "\n",
    "In the context of our MPC problem, the concepts map as follows:\n",
    "\n",
    "*   **Individual / Chromosome:** A single, complete control plan. This is a sequence of `H` future CPP values.\n",
    "*   **Population:** A large collection of these control plans (e.g., 100 different individuals).\n",
    "*   **Gene:** A single CPP value at a single future time step within a plan.\n",
    "*   **Fitness Function:** Our MPC cost function. It evaluates a control plan (an individual) and assigns it a score (lower is better). This is the 'environment' that determines survival.\n",
    "\n",
    "The evolutionary process works in a loop:\n",
    "1.  **Selection:** The 'fittest' individuals (plans with the lowest cost) are more likely to be selected to 'reproduce'.\n",
    "2.  **Crossover:** Two parent plans are combined to create a new offspring plan, mixing characteristics from both (e.g., taking the first half of Plan A and the second half of Plan B).\n",
    "3.  **Mutation:** Small, random changes are introduced into the new offspring's genes. This maintains genetic diversity and helps escape local optima.\n",
    "\n",
    "After many generations, the population converges towards a set of high-fitness individuals, one of which will be our optimal control plan."
   ]
  },
  {
   "cell_type": "markdown",
   "metadata": {},
   "source": [
    "--- \n",
    "## 3. Building the `GeneticOptimizer` Class with DEAP\n",
    "\n",
    "We will use the powerful `DEAP` (Distributed Evolutionary Algorithms in Python) library to implement our GA. We will create a wrapper class in `src/optimizers.py` to provide a clean interface tailored to our MPC problem."
   ]
  },
  {
   "cell_type": "code",
   "execution_count": 4,
   "metadata": {},
   "outputs": [
    {
     "name": "stdout",
     "output_type": "stream",
     "text": [
      "Overwriting ../robust_mpc/optimizers.py\n"
     ]
    }
   ],
   "source": [
    "%%writefile ../robust_mpc/optimizers.py\n",
    "import random\n",
    "import numpy as np\n",
    "from deap import base, creator, tools, algorithms\n",
    "\n",
    "class GeneticOptimizer:\n",
    "    \"\"\"\n",
    "    A wrapper for the DEAP library to find optimal control sequences using a\n",
    "    Genetic Algorithm.\n",
    "    \"\"\"\n",
    "    def __init__(self, fitness_function, param_bounds, config):\n",
    "        self.fitness_function = fitness_function\n",
    "        self.param_bounds = param_bounds # List of (min, max) for each gene\n",
    "        self.config = config\n",
    "        self.n_params = len(param_bounds) # Number of genes in an individual\n",
    "\n",
    "        # --- DEAP Toolbox Setup ---\n",
    "        # 1. Define the fitness objective (minimizing a single value)\n",
    "        creator.create(\"FitnessMin\", base.Fitness, weights=(-1.0,))\n",
    "        \n",
    "        # 2. Define the structure of an individual (a list of floats with a fitness attribute)\n",
    "        creator.create(\"Individual\", list, fitness=creator.FitnessMin)\n",
    "\n",
    "        self.toolbox = base.Toolbox()\n",
    "        \n",
    "        # 3. Gene generator: How to create a single gene (a random float within bounds)\n",
    "        self.toolbox.register(\"attr_float\", self._rand_float_in_bounds)\n",
    "        \n",
    "        # 4. Individual and Population generators\n",
    "        self.toolbox.register(\"individual\", tools.initRepeat, creator.Individual, self.toolbox.attr_float, n=self.n_params)\n",
    "        self.toolbox.register(\"population\", tools.initRepeat, list, self.toolbox.individual)\n",
    "        \n",
    "        # 5. Register the evolutionary operators\n",
    "        self.toolbox.register(\"evaluate\", self._evaluate)\n",
    "        self.toolbox.register(\"mate\", tools.cxTwoPoint)\n",
    "        self.toolbox.register(\"mutate\", tools.mutGaussian, mu=0, sigma=0.2, indpb=0.1)\n",
    "        self.toolbox.register(\"select\", tools.selTournament, tournsize=3)\n",
    "\n",
    "    def _rand_float_in_bounds(self):\n",
    "        \"\"\"Helper to create a gene by respecting the parameter bounds.\"\"\"\n",
    "        return [random.uniform(low, high) for low, high in self.param_bounds]\n",
    "        \n",
    "    def _evaluate(self, individual):\n",
    "        \"\"\"Wrapper to connect DEAP's evaluation to our MPC fitness function.\"\"\"\n",
    "        # DEAP works with a flat list, we need to reshape it into a control plan\n",
    "        control_plan = np.array(individual).reshape(self.config['horizon'], self.config['num_cpps'])\n",
    "        cost = self.fitness_function(control_plan)\n",
    "        return (cost,) # DEAP expects a tuple\n",
    "    \n",
    "    def _check_bounds(self, individual):\n",
    "        \"\"\"Ensures that mutated/crossed-over individuals stay within bounds.\"\"\"\n",
    "        for i, (low, high) in enumerate(self.param_bounds):\n",
    "            if individual[i] > high:\n",
    "                individual[i] = high\n",
    "            elif individual[i] < low:\n",
    "                individual[i] = low\n",
    "        return individual\n",
    "        \n",
    "    def optimize(self):\n",
    "        \"\"\"Runs the genetic algorithm to find the best control plan.\"\"\"\n",
    "        pop = self.toolbox.population(n=self.config['population_size'])\n",
    "        \n",
    "        # Use a hall of fame to keep track of the best individual found so far\n",
    "        hof = tools.HallOfFame(1)\n",
    "        \n",
    "        # Run the evolution\n",
    "        algorithms.eaSimple(\n",
    "            pop,\n",
    "            self.toolbox,\n",
    "            cxpb=self.config['crossover_prob'],\n",
    "            mutpb=self.config['mutation_prob'],\n",
    "            ngen=self.config['num_generations'],\n",
    "            halloffame=hof,\n",
    "            verbose=False\n",
    "        )\n",
    "        \n",
    "        # Reshape the best individual back into a plan\n",
    "        best_individual = hof[0]\n",
    "        best_plan = np.array(best_individual).reshape(self.config['horizon'], self.config['num_cpps'])\n",
    "        \n",
    "        return best_plan"
   ]
  },
  {
   "cell_type": "markdown",
   "metadata": {},
   "source": [
    "--- \n",
    "## 4. Defining a Richer Action Space\n",
    "\n",
    "The power of using a GA is that our 'chromosome' (the individual) can represent a much more complex control plan than before. In V1, we could only represent a single change held constant. Now, we will define the chromosome to be a flattened list of all CPP values at all future time steps.\n",
    "\n",
    "**Chromosome Structure:**\n",
    "`[spray_rate_t1, air_flow_t1, ..., spray_rate_t2, air_flow_t2, ..., spray_rate_tH, air_flow_tH]`\n",
    "\n",
    "This allows the GA to discover sophisticated plans like:\n",
    "*   **Ramps:** Gradually increasing the `spray_rate` over 10 steps.\n",
    "*   **Step-and-Hold:** Making a sharp change in `air_flow` and then holding it.\n",
    "*   **Complex Profiles:** Any arbitrary sequence of moves.\n",
    "\n",
    "The `param_bounds` we pass to the optimizer will be a long list containing the `(min, max)` operational range for each gene in this flattened structure."
   ]
  },
  {
   "cell_type": "code",
   "execution_count": 5,
   "metadata": {},
   "outputs": [
    {
     "name": "stdout",
     "output_type": "stream",
     "text": [
      "GA Config: {'population_size': 50, 'num_generations': 20, 'crossover_prob': 0.7, 'mutation_prob': 0.2, 'horizon': 10, 'num_cpps': 3}\n",
      "Length of chromosome (num_genes): 30\n",
      "Example bounds for first 3 genes: [(80.0, 180.0), (400.0, 700.0), (20.0, 40.0)]\n"
     ]
    }
   ],
   "source": [
    "def setup_ga_config_and_bounds(cpp_config, horizon):\n",
    "    \"\"\"Helper function to create the config and bounds list for the GA.\"\"\"\n",
    "    ga_config = {\n",
    "        'population_size': 50,\n",
    "        'num_generations': 20,\n",
    "        'crossover_prob': 0.7,\n",
    "        'mutation_prob': 0.2,\n",
    "        'horizon': horizon,\n",
    "        'num_cpps': len(cpp_config)\n",
    "    }\n",
    "    \n",
    "    # Create the flattened list of bounds for the chromosome\n",
    "    param_bounds = []\n",
    "    cpp_names = list(cpp_config.keys())\n",
    "    for _ in range(horizon):\n",
    "        for name in cpp_names:\n",
    "            param_bounds.append((cpp_config[name]['min_val'], cpp_config[name]['max_val']))\n",
    "            \n",
    "    return ga_config, param_bounds\n",
    "\n",
    "# Example usage\n",
    "CPP_CONSTRAINTS = {\n",
    "    'spray_rate': {'min_val': 80.0, 'max_val': 180.0},\n",
    "    'air_flow': {'min_val': 400.0, 'max_val': 700.0},\n",
    "    'carousel_speed': {'min_val': 20.0, 'max_val': 40.0}\n",
    "}\n",
    "HORIZON = 10 # Use a shorter horizon for this test\n",
    "\n",
    "ga_config, param_bounds = setup_ga_config_and_bounds(CPP_CONSTRAINTS, HORIZON)\n",
    "\n",
    "print(f\"GA Config: {ga_config}\")\n",
    "print(f\"Length of chromosome (num_genes): {len(param_bounds)}\")\n",
    "print(f\"Example bounds for first 3 genes: {param_bounds[:3]}\")"
   ]
  },
  {
   "cell_type": "markdown",
   "metadata": {},
   "source": [
    "--- \n",
    "## 5. Standalone Test of the Genetic Optimizer\n",
    "\n",
    "Let's test our new `GeneticOptimizer`. We'll create a simple dummy 'fitness function' that we can easily understand. The goal of the fitness function will be to evolve a control plan that ramps the `spray_rate` up to its maximum value while keeping the other CPPs low.\n",
    "\n",
    "**Dummy Fitness Goal:** `minimize(sum(air_flow) + sum(carousel_speed) - sum(spray_rate))`"
   ]
  },
  {
   "cell_type": "code",
   "execution_count": 7,
   "metadata": {},
   "outputs": [
    {
     "name": "stdout",
     "output_type": "stream",
     "text": [
      "Running Genetic Algorithm to find the optimal plan...\n"
     ]
    },
    {
     "ename": "ValueError",
     "evalue": "cannot reshape array of size 900 into shape (10,3)",
     "output_type": "error",
     "traceback": [
      "\u001b[31m---------------------------------------------------------------------------\u001b[39m",
      "\u001b[31mValueError\u001b[39m                                Traceback (most recent call last)",
      "\u001b[36mCell\u001b[39m\u001b[36m \u001b[39m\u001b[32mIn[7]\u001b[39m\u001b[32m, line 19\u001b[39m\n\u001b[32m     17\u001b[39m optimizer = GeneticOptimizer(dummy_fitness_function, param_bounds, ga_config)\n\u001b[32m     18\u001b[39m \u001b[38;5;28mprint\u001b[39m(\u001b[33m\"\u001b[39m\u001b[33mRunning Genetic Algorithm to find the optimal plan...\u001b[39m\u001b[33m\"\u001b[39m)\n\u001b[32m---> \u001b[39m\u001b[32m19\u001b[39m best_plan_found = \u001b[43moptimizer\u001b[49m\u001b[43m.\u001b[49m\u001b[43moptimize\u001b[49m\u001b[43m(\u001b[49m\u001b[43m)\u001b[49m\n\u001b[32m     21\u001b[39m \u001b[38;5;66;03m# --- Visualize the Result ---\u001b[39;00m\n\u001b[32m     22\u001b[39m df_best_plan = pd.DataFrame(best_plan_found, columns=CPP_CONSTRAINTS.keys())\n",
      "\u001b[36mFile \u001b[39m\u001b[32m~/projects/PharmaControl/V2/robust_mpc/optimizers.py:66\u001b[39m, in \u001b[36mGeneticOptimizer.optimize\u001b[39m\u001b[34m(self)\u001b[39m\n\u001b[32m     63\u001b[39m hof = tools.HallOfFame(\u001b[32m1\u001b[39m)\n\u001b[32m     65\u001b[39m \u001b[38;5;66;03m# Run the evolution\u001b[39;00m\n\u001b[32m---> \u001b[39m\u001b[32m66\u001b[39m \u001b[43malgorithms\u001b[49m\u001b[43m.\u001b[49m\u001b[43meaSimple\u001b[49m\u001b[43m(\u001b[49m\n\u001b[32m     67\u001b[39m \u001b[43m    \u001b[49m\u001b[43mpop\u001b[49m\u001b[43m,\u001b[49m\n\u001b[32m     68\u001b[39m \u001b[43m    \u001b[49m\u001b[38;5;28;43mself\u001b[39;49m\u001b[43m.\u001b[49m\u001b[43mtoolbox\u001b[49m\u001b[43m,\u001b[49m\n\u001b[32m     69\u001b[39m \u001b[43m    \u001b[49m\u001b[43mcxpb\u001b[49m\u001b[43m=\u001b[49m\u001b[38;5;28;43mself\u001b[39;49m\u001b[43m.\u001b[49m\u001b[43mconfig\u001b[49m\u001b[43m[\u001b[49m\u001b[33;43m'\u001b[39;49m\u001b[33;43mcrossover_prob\u001b[39;49m\u001b[33;43m'\u001b[39;49m\u001b[43m]\u001b[49m\u001b[43m,\u001b[49m\n\u001b[32m     70\u001b[39m \u001b[43m    \u001b[49m\u001b[43mmutpb\u001b[49m\u001b[43m=\u001b[49m\u001b[38;5;28;43mself\u001b[39;49m\u001b[43m.\u001b[49m\u001b[43mconfig\u001b[49m\u001b[43m[\u001b[49m\u001b[33;43m'\u001b[39;49m\u001b[33;43mmutation_prob\u001b[39;49m\u001b[33;43m'\u001b[39;49m\u001b[43m]\u001b[49m\u001b[43m,\u001b[49m\n\u001b[32m     71\u001b[39m \u001b[43m    \u001b[49m\u001b[43mngen\u001b[49m\u001b[43m=\u001b[49m\u001b[38;5;28;43mself\u001b[39;49m\u001b[43m.\u001b[49m\u001b[43mconfig\u001b[49m\u001b[43m[\u001b[49m\u001b[33;43m'\u001b[39;49m\u001b[33;43mnum_generations\u001b[39;49m\u001b[33;43m'\u001b[39;49m\u001b[43m]\u001b[49m\u001b[43m,\u001b[49m\n\u001b[32m     72\u001b[39m \u001b[43m    \u001b[49m\u001b[43mhalloffame\u001b[49m\u001b[43m=\u001b[49m\u001b[43mhof\u001b[49m\u001b[43m,\u001b[49m\n\u001b[32m     73\u001b[39m \u001b[43m    \u001b[49m\u001b[43mverbose\u001b[49m\u001b[43m=\u001b[49m\u001b[38;5;28;43;01mFalse\u001b[39;49;00m\n\u001b[32m     74\u001b[39m \u001b[43m\u001b[49m\u001b[43m)\u001b[49m\n\u001b[32m     76\u001b[39m \u001b[38;5;66;03m# Reshape the best individual back into a plan\u001b[39;00m\n\u001b[32m     77\u001b[39m best_individual = hof[\u001b[32m0\u001b[39m]\n",
      "\u001b[36mFile \u001b[39m\u001b[32m~/projects/PharmaControl/.venv/lib/python3.12/site-packages/deap/algorithms.py:151\u001b[39m, in \u001b[36meaSimple\u001b[39m\u001b[34m(population, toolbox, cxpb, mutpb, ngen, stats, halloffame, verbose)\u001b[39m\n\u001b[32m    149\u001b[39m invalid_ind = [ind \u001b[38;5;28;01mfor\u001b[39;00m ind \u001b[38;5;129;01min\u001b[39;00m population \u001b[38;5;28;01mif\u001b[39;00m \u001b[38;5;129;01mnot\u001b[39;00m ind.fitness.valid]\n\u001b[32m    150\u001b[39m fitnesses = toolbox.map(toolbox.evaluate, invalid_ind)\n\u001b[32m--> \u001b[39m\u001b[32m151\u001b[39m \u001b[43m\u001b[49m\u001b[38;5;28;43;01mfor\u001b[39;49;00m\u001b[43m \u001b[49m\u001b[43mind\u001b[49m\u001b[43m,\u001b[49m\u001b[43m \u001b[49m\u001b[43mfit\u001b[49m\u001b[43m \u001b[49m\u001b[38;5;129;43;01min\u001b[39;49;00m\u001b[43m \u001b[49m\u001b[38;5;28;43mzip\u001b[39;49m\u001b[43m(\u001b[49m\u001b[43minvalid_ind\u001b[49m\u001b[43m,\u001b[49m\u001b[43m \u001b[49m\u001b[43mfitnesses\u001b[49m\u001b[43m)\u001b[49m\u001b[43m:\u001b[49m\n\u001b[32m    152\u001b[39m \u001b[43m    \u001b[49m\u001b[43mind\u001b[49m\u001b[43m.\u001b[49m\u001b[43mfitness\u001b[49m\u001b[43m.\u001b[49m\u001b[43mvalues\u001b[49m\u001b[43m \u001b[49m\u001b[43m=\u001b[49m\u001b[43m \u001b[49m\u001b[43mfit\u001b[49m\n\u001b[32m    154\u001b[39m \u001b[38;5;28;01mif\u001b[39;00m halloffame \u001b[38;5;129;01mis\u001b[39;00m \u001b[38;5;129;01mnot\u001b[39;00m \u001b[38;5;28;01mNone\u001b[39;00m:\n",
      "\u001b[36mFile \u001b[39m\u001b[32m~/projects/PharmaControl/V2/robust_mpc/optimizers.py:45\u001b[39m, in \u001b[36mGeneticOptimizer._evaluate\u001b[39m\u001b[34m(self, individual)\u001b[39m\n\u001b[32m     43\u001b[39m \u001b[38;5;250m\u001b[39m\u001b[33;03m\"\"\"Wrapper to connect DEAP's evaluation to our MPC fitness function.\"\"\"\u001b[39;00m\n\u001b[32m     44\u001b[39m \u001b[38;5;66;03m# DEAP works with a flat list, we need to reshape it into a control plan\u001b[39;00m\n\u001b[32m---> \u001b[39m\u001b[32m45\u001b[39m control_plan = \u001b[43mnp\u001b[49m\u001b[43m.\u001b[49m\u001b[43marray\u001b[49m\u001b[43m(\u001b[49m\u001b[43mindividual\u001b[49m\u001b[43m)\u001b[49m\u001b[43m.\u001b[49m\u001b[43mreshape\u001b[49m\u001b[43m(\u001b[49m\u001b[38;5;28;43mself\u001b[39;49m\u001b[43m.\u001b[49m\u001b[43mconfig\u001b[49m\u001b[43m[\u001b[49m\u001b[33;43m'\u001b[39;49m\u001b[33;43mhorizon\u001b[39;49m\u001b[33;43m'\u001b[39;49m\u001b[43m]\u001b[49m\u001b[43m,\u001b[49m\u001b[43m \u001b[49m\u001b[38;5;28;43mself\u001b[39;49m\u001b[43m.\u001b[49m\u001b[43mconfig\u001b[49m\u001b[43m[\u001b[49m\u001b[33;43m'\u001b[39;49m\u001b[33;43mnum_cpps\u001b[39;49m\u001b[33;43m'\u001b[39;49m\u001b[43m]\u001b[49m\u001b[43m)\u001b[49m\n\u001b[32m     46\u001b[39m cost = \u001b[38;5;28mself\u001b[39m.fitness_function(control_plan)\n\u001b[32m     47\u001b[39m \u001b[38;5;28;01mreturn\u001b[39;00m (cost,)\n",
      "\u001b[31mValueError\u001b[39m: cannot reshape array of size 900 into shape (10,3)"
     ]
    }
   ],
   "source": [
    "from V2.robust_mpc.optimizers import GeneticOptimizer\n",
    "\n",
    "# Define our simple dummy fitness function\n",
    "def dummy_fitness_function(control_plan):\n",
    "    \"\"\"A simple cost function for testing the GA.\"\"\"\n",
    "    # control_plan shape: (horizon, num_cpps)\n",
    "    spray_rate_sum = np.sum(control_plan[:, 0])\n",
    "    air_flow_sum = np.sum(control_plan[:, 1])\n",
    "    carousel_speed_sum = np.sum(control_plan[:, 2])\n",
    "    \n",
    "    # We want to minimize this value, so we penalize high air_flow/speed \n",
    "    # and reward high spray_rate (by subtracting it).\n",
    "    cost = air_flow_sum + carousel_speed_sum - spray_rate_sum\n",
    "    return cost\n",
    "\n",
    "# --- Instantiate and Run the Optimizer ---\n",
    "optimizer = GeneticOptimizer(dummy_fitness_function, param_bounds, ga_config)\n",
    "print(\"Running Genetic Algorithm to find the optimal plan...\")\n",
    "best_plan_found = optimizer.optimize()\n",
    "\n",
    "# --- Visualize the Result ---\n",
    "df_best_plan = pd.DataFrame(best_plan_found, columns=CPP_CONSTRAINTS.keys())\n",
    "\n",
    "print(\"\\nGA has finished. The optimal plan found is:\")\n",
    "plt.figure(figsize=(15, 6))\n",
    "df_best_plan.plot(ax=plt.gca())\n",
    "plt.title('Control Plan Evolved by the Genetic Algorithm', fontsize=16)\n",
    "plt.xlabel('Time Steps into Horizon', fontsize=12)\n",
    "plt.ylabel('CPP Values', fontsize=12)\n",
    "plt.legend()\n",
    "plt.grid(True, linestyle=':')\n",
    "plt.show()"
   ]
  },
  {
   "cell_type": "markdown",
   "metadata": {},
   "source": [
    "### Final Analysis\n",
    "\n",
    "The plot should show that the GA successfully 'discovered' a control plan that aligns with our simple fitness function. The `spray_rate` should be at or near its maximum value (180), while `air_flow` and `carousel_speed` should be at or near their minimum values (400 and 20, respectively). The shape of the lines might not be perfectly flat due to the randomness of crossover and mutation, but the overall trend will be clear.\n",
    "\n",
    "We have now built the third major component of our V2 framework: a scalable and intelligent optimization engine. This `GeneticOptimizer` will replace the V1 controller's biggest weakness and allow our new `RobustMPCController` to find sophisticated solutions to complex control problems."
   ]
  }
 ],
 "metadata": {
  "kernelspec": {
   "display_name": "pharmacontrol",
   "language": "python",
   "name": "python3"
  },
  "language_info": {
   "codemirror_mode": {
    "name": "ipython",
    "version": 3
   },
   "file_extension": ".py",
   "mimetype": "text/x-python",
   "name": "python",
   "nbconvert_exporter": "python",
   "pygments_lexer": "ipython3",
   "version": "3.12.3"
  }
 },
 "nbformat": 4,
 "nbformat_minor": 4
}
