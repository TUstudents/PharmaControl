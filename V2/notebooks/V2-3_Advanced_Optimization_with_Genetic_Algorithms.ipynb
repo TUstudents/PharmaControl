{
 "cells": [
  {
   "cell_type": "markdown",
   "metadata": {},
   "source": [
    "# V2 Notebook 3: Advanced Optimization with Genetic Algorithms\n",
    "\n",
    "**Project:** `RobustMPC-Pharma` (V2)\n",
    "**Goal:** Replace the V1 controller's inefficient exhaustive search with a scalable, intelligent optimization engine. We will use a **Genetic Algorithm (GA)** to efficiently search a massive space of potential control plans, enabling more sophisticated and effective control strategies.\n",
    "\n",
    "### Table of Contents\n",
    "1. [Theory: The Limits of Brute Force and the Power of Evolution](#1.-Theory:-The-Limits-of-Brute-Force-and-the-Power-of-Evolution)\n",
    "2. [Introduction to Genetic Algorithms for Control Problems](#2.-Introduction-to-Genetic-Algorithms-for-Control-Problems)\n",
    "3. [Building the `GeneticOptimizer` Class with DEAP](#3.-Building-the-GeneticOptimizer-Class-with-DEAP)\n",
    "4. [Defining a Richer Action Space](#4.-Defining-a-Richer-Action-Space)\n",
    "5. [Standalone Test of the Genetic Optimizer](#5.-Standalone-Test-of-the-Genetic-Optimizer)"
   ]
  },
  {
   "cell_type": "markdown",
   "metadata": {},
   "source": [
    "--- \n",
    "## 1. Theory: The Limits of Brute Force and the Power of Evolution\n",
    "\n",
    "Our V1 MPC controller used an **exhaustive search** over a discretized lattice. This approach has two critical flaws:\n",
    "\n",
    "1.  **It is not scalable.** The number of possible plans grows exponentially with the number of control variables and discretization steps. For 3 CPPs with 3 discretization steps each, we had `3^3 = 27` candidates. For 5 CPPs with 5 steps, we would have `5^5 = 3,125` candidates. This quickly becomes computationally impossible to evaluate in real-time.\n",
    "2.  **It is not expressive.** To keep the search space small, we had to assume a very simple control plan: 'make one change and hold it constant'. This prevents the controller from finding better, more dynamic solutions like gradually ramping a parameter.\n",
    "\n",
    "We need a smarter way to search. Instead of checking every single possibility, we can use an **evolutionary algorithm** that intelligently explores the search space to find near-optimal solutions quickly."
   ]
  },
  {
   "cell_type": "markdown",
   "metadata": {},
   "source": [
    "--- \n",
    "## 2. Introduction to Genetic Algorithms for Control Problems\n",
    "\n",
    "A Genetic Algorithm (GA) is a search heuristic inspired by Charles Darwin's theory of natural selection. It 'evolves' a population of candidate solutions towards a better outcome over several generations.\n",
    "\n",
    "In the context of our MPC problem, the concepts map as follows:\n",
    "\n",
    "*   **Individual / Chromosome:** A single, complete control plan. This is a sequence of `H` future CPP values.\n",
    "*   **Population:** A large collection of these control plans (e.g., 100 different individuals).\n",
    "*   **Gene:** A single CPP value at a single future time step within a plan.\n",
    "*   **Fitness Function:** Our MPC cost function. It evaluates a control plan (an individual) and assigns it a score (lower is better). This is the 'environment' that determines survival.\n",
    "\n",
    "The evolutionary process works in a loop:\n",
    "1.  **Selection:** The 'fittest' individuals (plans with the lowest cost) are more likely to be selected to 'reproduce'.\n",
    "2.  **Crossover:** Two parent plans are combined to create a new offspring plan, mixing characteristics from both (e.g., taking the first half of Plan A and the second half of Plan B).\n",
    "3.  **Mutation:** Small, random changes are introduced into the new offspring's genes. This maintains genetic diversity and helps escape local optima.\n",
    "\n",
    "After many generations, the population converges towards a set of high-fitness individuals, one of which will be our optimal control plan."
   ]
  },
  {
   "cell_type": "markdown",
   "metadata": {},
   "source": [
    "--- \n",
    "## 3. Building the `GeneticOptimizer` Class with DEAP\n",
    "\n",
    "We will use the powerful `DEAP` (Distributed Evolutionary Algorithms in Python) library to implement our GA. We will create a wrapper class in `src/optimizers.py` to provide a clean interface tailored to our MPC problem."
   ]
  },
  {
   "cell_type": "markdown",
   "metadata": {
    "vscode": {
     "languageId": "raw"
    }
   },
   "source": "## Implementation: GeneticOptimizer Class\n\nThe `GeneticOptimizer` class is implemented in `V2/robust_mpc/optimizers.py` and provides a sophisticated evolutionary optimization framework specifically designed for pharmaceutical process control applications.\n\n### Key Features and Recent Enhancements\n\n**Core Capabilities:**\n- **Global optimization** for non-convex MPC problems\n- **Constraint handling** through automatic bound repair\n- **Population-based search** with configurable parameters\n- **DEAP framework integration** for robust evolutionary algorithms\n\n**Recent Improvements (V2 System):**\n- **Flexible fitness function handling**: Optional fitness function parameter allows runtime specification\n- **Enhanced parameter validation**: Comprehensive input validation and error handling\n- **Scaled parameter bounds support**: Integration with MinMaxScaler for proper optimization space\n- **Configuration flexibility**: Support for various GA parameter configurations\n- **Production-ready error handling**: Robust exception handling for pharmaceutical manufacturing\n\n### Constructor Signature\n\n```python\nGeneticOptimizer(param_bounds, config, fitness_function=None)\n```\n\n**Parameters:**\n- `param_bounds`: List of (min, max) tuples for each decision variable\n- `config`: Dictionary containing GA configuration (population_size, num_generations, etc.)\n- `fitness_function`: Optional callable that can be provided at initialization or optimization time\n\n### Integration with V2 System\n\nThe `GeneticOptimizer` integrates seamlessly with the V2 robust MPC framework:\n- **RobustMPCController**: Uses GeneticOptimizer for intelligent control sequence optimization\n- **Parameter scaling**: Works with scaled bounds from MinMaxScaler preprocessing\n- **Constraint enforcement**: Automatically handles pharmaceutical process variable bounds\n- **Real-time performance**: Optimized for control loop execution timing\n\n### Example Usage\n\n```python\n# Define parameter bounds for pharmaceutical process\nparam_bounds = [(80, 180), (400, 700), (20, 40)] * horizon  # spray_rate, air_flow, carousel_speed\n\n# Configure genetic algorithm\nga_config = {\n    'horizon': 10,\n    'num_cpps': 3,\n    'population_size': 50,\n    'num_generations': 20,\n    'crossover_prob': 0.7,\n    'mutation_prob': 0.2\n}\n\n# Create optimizer with pharmaceutical-specific fitness function\noptimizer = GeneticOptimizer(param_bounds, ga_config, fitness_function=mpc_cost_function)\n\n# Find optimal control sequence\noptimal_plan = optimizer.optimize()\n```\n\nThis implementation represents a significant advancement over V1's exhaustive search, enabling intelligent exploration of complex control spaces while maintaining pharmaceutical manufacturing safety and performance requirements."
  },
  {
   "cell_type": "code",
   "execution_count": null,
   "metadata": {},
   "outputs": [],
   "source": "import numpy as np\nimport pandas as pd\nimport matplotlib.pyplot as plt\nimport sys\nimport os\n\ndef setup_ga_config_and_bounds(cpp_config, horizon):\n    \"\"\"Helper function to create the config and bounds list for the GA.\n    \n    This function creates the proper configuration structure for the V2 GeneticOptimizer,\n    ensuring compatibility with recent enhancements including parameter validation\n    and pharmaceutical manufacturing requirements.\n    \"\"\"\n    # Enhanced GA configuration with current parameter names\n    ga_config = {\n        'horizon': horizon,\n        'num_cpps': len(cpp_config),\n        'population_size': 50,        # GA population size\n        'num_generations': 20,        # Maximum generations  \n        'crossover_prob': 0.7,        # Crossover probability (cx_prob alias supported)\n        'mutation_prob': 0.2,         # Mutation probability (mut_prob alias supported)\n        'tournament_size': 3,         # Selection tournament size\n    }\n    \n    # Create the flattened list of bounds for the chromosome\n    # Each gene corresponds to one CPP at one time step\n    param_bounds = []\n    cpp_names = list(cpp_config.keys())\n    \n    # Build bounds list: [time_0_cpp_0, time_0_cpp_1, time_0_cpp_2, time_1_cpp_0, ...]\n    for time_step in range(horizon):\n        for cpp_name in cpp_names:\n            min_val = cpp_config[cpp_name]['min_val']\n            max_val = cpp_config[cpp_name]['max_val']\n            param_bounds.append((min_val, max_val))\n            \n    return ga_config, param_bounds\n\n# Pharmaceutical process constraints (updated for current V2 system)\nCPP_CONSTRAINTS = {\n    'spray_rate': {'min_val': 80.0, 'max_val': 180.0},      # g/min - granulation spray rate\n    'air_flow': {'min_val': 400.0, 'max_val': 700.0},       # m³/h - fluidization air flow  \n    'carousel_speed': {'min_val': 20.0, 'max_val': 40.0}    # rpm - carousel rotation speed\n}\nHORIZON = 10  # Control horizon for pharmaceutical MPC\n\n# Generate configuration and validate\nga_config, param_bounds = setup_ga_config_and_bounds(CPP_CONSTRAINTS, HORIZON)\n\nprint(\"🔧 V2 Genetic Algorithm Configuration:\")\nprint(f\"GA Config: {ga_config}\")\nprint(f\"\\n📊 Parameter Space Analysis:\")\nprint(f\"Length of chromosome (num_genes): {len(param_bounds)}\")\nprint(f\"Example bounds for first 6 genes: {param_bounds[:6]}\")\nprint(f\"Total expected parameters: {HORIZON} × {len(CPP_CONSTRAINTS)} = {HORIZON * len(CPP_CONSTRAINTS)}\")\nprint(f\"✅ Validation: param_bounds length = {len(param_bounds)}, expected = {HORIZON * len(CPP_CONSTRAINTS)}\")\n\n# Validation checks for V2 compatibility\nprint(f\"\\n🔍 V2 System Compatibility Checks:\")\nprint(f\"param_bounds type: {type(param_bounds)} (must be list)\")\nprint(f\"All bounds are tuples: {all(isinstance(bound, tuple) and len(bound) == 2 for bound in param_bounds)}\")\nprint(f\"Config contains required keys: {all(key in ga_config for key in ['horizon', 'num_cpps', 'population_size', 'num_generations'])}\")\n\n# Display parameter structure for pharmaceutical understanding\nprint(f\"\\n💊 Pharmaceutical Process Parameter Structure:\")\ncpp_names = list(CPP_CONSTRAINTS.keys())\nfor i, (time_step, cpp_idx) in enumerate([(t, c) for t in range(min(3, HORIZON)) for c in range(len(cpp_names))]):\n    param_name = cpp_names[cpp_idx]\n    bound = param_bounds[i]\n    print(f\"Gene {i:2d}: Time step {time_step}, {param_name:15s} bounds {bound}\")\nif HORIZON > 3:\n    print(f\"... (and {(HORIZON-3) * len(cpp_names)} more genes for remaining time steps)\")"
  },
  {
   "cell_type": "markdown",
   "metadata": {},
   "source": [
    "--- \n",
    "## 5. Standalone Test of the Genetic Optimizer\n",
    "\n",
    "Let's test our new `GeneticOptimizer`. We'll create a simple dummy 'fitness function' that we can easily understand. The goal of the fitness function will be to evolve a control plan that ramps the `spray_rate` up to its maximum value while keeping the other CPPs low.\n",
    "\n",
    "**Dummy Fitness Goal:** `minimize(sum(air_flow) + sum(carousel_speed) - sum(spray_rate))`"
   ]
  },
  {
   "cell_type": "code",
   "execution_count": null,
   "metadata": {},
   "outputs": [],
   "source": "from V2.robust_mpc.optimizers import GeneticOptimizer\n\n# Define our simple dummy fitness function\ndef dummy_fitness_function(control_plan):\n    \"\"\"A simple cost function for testing the GA.\"\"\"\n    # control_plan shape: (horizon, num_cpps)\n    print(f\"DEBUG: control_plan shape = {control_plan.shape}\")\n    \n    spray_rate_sum = np.sum(control_plan[:, 0])\n    air_flow_sum = np.sum(control_plan[:, 1])\n    carousel_speed_sum = np.sum(control_plan[:, 2])\n    \n    # We want to minimize this value, so we penalize high air_flow/speed \n    # and reward high spray_rate (by subtracting it).\n    cost = air_flow_sum + carousel_speed_sum - spray_rate_sum\n    return cost\n\ntry:\n    # --- Validate Configuration and Parameter Bounds ---\n    print(\"Validating configuration and parameter bounds...\")\n    print(f\"Config validation: horizon={ga_config['horizon']}, num_cpps={ga_config['num_cpps']}\")\n    print(f\"Expected chromosome length: {ga_config['horizon'] * ga_config['num_cpps']}\")\n    print(f\"Actual param_bounds length: {len(param_bounds)}\")\n    print(f\"param_bounds type: {type(param_bounds)}\")\n    print(f\"First few bounds: {param_bounds[:6]}\")\n    \n    # Ensure param_bounds is a list (should be, but let's verify)\n    if not isinstance(param_bounds, list):\n        param_bounds = list(param_bounds)\n        print(f\"Converted param_bounds to list: {type(param_bounds)}\")\n    \n    # --- Instantiate and Run the Optimizer (FIXED CONSTRUCTOR) ---\n    print(\"\\nCreating GeneticOptimizer with corrected constructor...\")\n    # FIXED: Use correct constructor signature (param_bounds, config, fitness_function)\n    optimizer = GeneticOptimizer(param_bounds, ga_config, fitness_function=dummy_fitness_function)\n    print(\"✅ GeneticOptimizer created successfully!\")\n    \n    print(\"Running Genetic Algorithm to find the optimal plan...\")\n    best_plan_found = optimizer.optimize()\n    print(f\"✅ Optimization completed! Best plan shape: {best_plan_found.shape}\")\n\n    # --- Visualize the Result ---\n    df_best_plan = pd.DataFrame(best_plan_found, columns=list(CPP_CONSTRAINTS.keys()))\n\n    print(\"\\nGA has finished. The optimal plan found is:\")\n    print(df_best_plan.head())\n    \n    plt.figure(figsize=(15, 6))\n    df_best_plan.plot(ax=plt.gca())\n    plt.title('Control Plan Evolved by the Genetic Algorithm', fontsize=16)\n    plt.xlabel('Time Steps into Horizon', fontsize=12)\n    plt.ylabel('CPP Values', fontsize=12)\n    plt.legend()\n    plt.grid(True, linestyle=':')\n    plt.show()\n    \n    # Print summary statistics\n    print(\"\\n📊 Control Plan Summary:\")\n    print(f\"Average spray_rate: {np.mean(best_plan_found[:, 0]):.1f} (target: high, max=180)\")\n    print(f\"Average air_flow: {np.mean(best_plan_found[:, 1]):.1f} (target: low, min=400)\")\n    print(f\"Average carousel_speed: {np.mean(best_plan_found[:, 2]):.1f} (target: low, min=20)\")\n    print(f\"Final cost: {dummy_fitness_function(best_plan_found):.2f}\")\n\nexcept Exception as e:\n    print(f\"❌ Error occurred: {e}\")\n    import traceback\n    traceback.print_exc()"
  },
  {
   "cell_type": "markdown",
   "metadata": {},
   "source": "### Final Analysis\n\n🎯 **Expected Results**: The GA should successfully discover a control plan that aligns with our fitness function:\n- **spray_rate**: Should be at or near maximum (180) to minimize cost\n- **air_flow**: Should be at or near minimum (400) to minimize cost  \n- **carousel_speed**: Should be at or near minimum (20) to minimize cost\n\n📈 **Performance Validation**: \n- The optimization should converge within 20 generations for this simple problem\n- Final cost should be negative (spray_rate reward > air_flow + speed penalties)\n- Control sequences should show consistent patterns aligned with objectives\n\n✅ **Key Achievements in V2 System**:\n1. **Scalable Optimization**: Replaced V1's exponential search with intelligent GA\n2. **Rich Action Space**: Can now handle complex, dynamic control sequences over extended horizons\n3. **Constraint Handling**: Automatic bound enforcement during evolution with enhanced validation\n4. **Global Optimization**: Capable of finding near-optimal solutions in complex pharmaceutical landscapes\n5. **Production-Ready Implementation**: Enhanced error handling and pharmaceutical manufacturing integration\n\n🔧 **V2 Framework Integration Success**: \nThis `GeneticOptimizer` provides the third pillar of our enhanced V2 framework:\n- **Pillar 1**: Stable state estimation (Kalman filtering with noise handling) ✅\n- **Pillar 2**: Uncertainty-aware prediction (Probabilistic models with Monte Carlo sampling) ✅  \n- **Pillar 3**: Intelligent optimization (Genetic algorithms with constraint enforcement) ✅\n\n📊 **Recent V2 Enhancements**:\n- **Parameter Bounds Scaling**: Integration with MinMaxScaler for proper optimization space normalization\n- **Data Buffer Safety**: Atomic operations preventing race condition vulnerabilities\n- **Fallback Action Safety**: Safe default initialization for pharmaceutical manufacturing reliability\n- **Optimizer Reset Intelligence**: Fresh population generation for significant setpoint changes\n- **Enhanced Configuration**: Flexible parameter specification with comprehensive validation\n\n🚀 **Next Steps - V2-4 Integration**: \nWith all three pillars enhanced and production-hardened, we're ready to integrate them into the final `RobustMPCController` in the next notebook, where we'll demonstrate:\n- **Complete V2 system performance** with all recent bug fixes and enhancements\n- **Pharmaceutical manufacturing workflows** with proper data integrity and safety measures\n- **Superior control quality** compared to V1 prototype through uncertainty quantification and intelligent optimization\n- **Production deployment readiness** with comprehensive error handling and monitoring capabilities\n\nThe V2 system now represents a **production-grade pharmaceutical process control platform** with robust safety measures, intelligent optimization, and comprehensive data integrity protection."
  }
 ],
 "metadata": {
  "kernelspec": {
   "display_name": "pharmacontrol",
   "language": "python",
   "name": "python3"
  },
  "language_info": {
   "codemirror_mode": {
    "name": "ipython",
    "version": 3
   },
   "file_extension": ".py",
   "mimetype": "text/x-python",
   "name": "python",
   "nbconvert_exporter": "python",
   "pygments_lexer": "ipython3",
   "version": "3.12.3"
  }
 },
 "nbformat": 4,
 "nbformat_minor": 4
}