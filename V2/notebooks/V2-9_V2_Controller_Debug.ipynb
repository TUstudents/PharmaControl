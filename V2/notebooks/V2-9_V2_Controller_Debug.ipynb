{
 "cells": [
  {
   "cell_type": "markdown",
   "id": "2680c472",
   "metadata": {},
   "source": [
    "## Phase 4: V1 vs V2 Controller Comparison Validation\n",
    "\n",
    "Test both controllers side-by-side with identical conditions to validate proper integration."
   ]
  },
  {
   "cell_type": "markdown",
   "id": "712688a9",
   "metadata": {},
   "source": [
    "### Phase 4.1: Load V2 Controller Components"
   ]
  },
  {
   "cell_type": "code",
   "execution_count": null,
   "id": "dc51bdfe",
   "metadata": {},
   "outputs": [],
   "source": [
    "def load_v2_controller_components():\n",
    "    \"\"\"Load V2 controller for side-by-side comparison with V1.\"\"\"\n",
    "    \n",
    "    print(\"Loading V2 Controller Components\")\n",
    "    print(\"=\" * 33)\n",
    "    \n",
    "    # Import V2 components\n",
    "    from V2.robust_mpc.core import RobustMPCController\n",
    "    from V2.robust_mpc.models import ProbabilisticTransformer\n",
    "    from V2.robust_mpc.estimators import KalmanStateEstimator\n",
    "    from V2.robust_mpc.optimizers import GeneticOptimizer\n",
    "    from V2.robust_mpc.data_buffer import DataBuffer\n",
    "    import yaml\n",
    "    \n",
    "    # Load V2 configuration\n",
    "    config_path = Path(\"../../V2/config.yaml\")\n",
    "    with open(config_path, 'r') as f:\n",
    "        v2_config = yaml.safe_load(f)\n",
    "    \n",
    "    print(f\"✓ V2 configuration loaded from {config_path}\")\n",
    "    \n",
    "    # Load V2 model\n",
    "    v2_model_path = Path(\"../../V2/models/best_model.pth\")\n",
    "    if v2_model_path.exists():\n",
    "        v2_model = load_trained_model(v2_model_path, device=DEVICE, validate=True)\n",
    "        print(f\"✓ V2 model loaded from {v2_model_path}\")\n",
    "    else:\n",
    "        # Fallback to V1 model for comparison (same architecture)\n",
    "        print(f\"⚠️  V2 model not found, using V1 model for architecture comparison\")\n",
    "        v2_model = v1_model\n",
    "    \n",
    "    # Create V2 components\n",
    "    estimator = KalmanStateEstimator(\n",
    "        process_noise=v2_config['kalman']['process_noise'],\n",
    "        measurement_noise=v2_config['kalman']['measurement_noise'],\n",
    "        initial_uncertainty=v2_config['kalman']['initial_uncertainty']\n",
    "    )\n",
    "    \n",
    "    optimizer = GeneticOptimizer(\n",
    "        population_size=v2_config['genetic']['population_size'],\n",
    "        generations=v2_config['genetic']['generations'],\n",
    "        mutation_rate=v2_config['genetic']['mutation_rate'],\n",
    "        crossover_rate=v2_config['genetic']['crossover_rate']\n",
    "    )\n",
    "    \n",
    "    # Create V2 controller\n",
    "    v2_controller = RobustMPCController(\n",
    "        model=v2_model,\n",
    "        estimator=estimator,\n",
    "        optimizer=optimizer,\n",
    "        config=v2_config,\n",
    "        device=DEVICE,\n",
    "        verbose=False  # Quiet for comparison\n",
    "    )\n",
    "    \n",
    "    print(f\"✓ V2 RobustMPCController created successfully\")\n",
    "    print(f\"  Model device: {next(v2_model.parameters()).device}\")\n",
    "    print(f\"  Estimator: {type(estimator).__name__}\")\n",
    "    print(f\"  Optimizer: {type(optimizer).__name__}\")\n",
    "    \n",
    "    return v2_controller, v2_config\n",
    "\n",
    "# Load V2 controller components\n",
    "try:\n",
    "    v2_controller, v2_config = load_v2_controller_components()\n",
    "    v2_loaded = True\n",
    "except Exception as e:\n",
    "    print(f\"❌ Failed to load V2 controller: {e}\")\n",
    "    print(f\"   Will proceed with V1-only validation\")\n",
    "    v2_loaded = False"
   ]
  }
 ],
 "metadata": {
  "language_info": {
   "name": "python"
  }
 },
 "nbformat": 4,
 "nbformat_minor": 5
}
